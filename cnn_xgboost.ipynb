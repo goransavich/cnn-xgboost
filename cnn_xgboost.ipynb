{
  "nbformat": 4,
  "nbformat_minor": 0,
  "metadata": {
    "colab": {
      "name": "Copy of cnn_xgboost.ipynb",
      "provenance": [],
      "collapsed_sections": [],
      "authorship_tag": "ABX9TyP12fLbTU/wSeWbV4m0FE/B",
      "include_colab_link": true
    },
    "kernelspec": {
      "name": "python3",
      "display_name": "Python 3"
    },
    "language_info": {
      "name": "python"
    }
  },
  "cells": [
    {
      "cell_type": "markdown",
      "metadata": {
        "id": "view-in-github",
        "colab_type": "text"
      },
      "source": [
        "<a href=\"https://colab.research.google.com/github/goransavich/cnn-xgboost/blob/main/cnn_xgboost.ipynb\" target=\"_parent\"><img src=\"https://colab.research.google.com/assets/colab-badge.svg\" alt=\"Open In Colab\"/></a>"
      ]
    },
    {
      "cell_type": "code",
      "metadata": {
        "id": "-ifLM3-XlUC8"
      },
      "source": [
        "import tensorflow as tf\n",
        "from tensorflow import keras\n",
        "import numpy as np\n",
        "from matplotlib import pyplot\n",
        "np.random.seed(1337)  # for reproducibility\n",
        "#from keras.utils import np_utils\n",
        "from keras.utils.np_utils import to_categorical # convert to one-hot-encoding\n",
        "from keras.models import Sequential, Model\n",
        "from keras.layers import Dense, Activation, Convolution1D, MaxPooling1D, Flatten, Input, Dropout\n",
        "from tensorflow.keras.optimizers import Adam\n",
        "from sklearn.model_selection import train_test_split\n",
        "from sklearn.preprocessing import OneHotEncoder\n",
        "from sklearn import preprocessing\n",
        "import matplotlib.pyplot as plt\n",
        "from keras.regularizers import l2\n",
        "from sklearn.utils import shuffle\n",
        "#xgboost\n",
        "import xgboost as xgb\n",
        "import pandas as pd\n",
        "from sklearn import metrics"
      ],
      "execution_count": 11,
      "outputs": []
    },
    {
      "cell_type": "code",
      "metadata": {
        "id": "JjNZDZ26ljnt",
        "colab": {
          "resources": {
            "http://localhost:8080/nbextensions/google.colab/files.js": {
              "data": "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",
              "ok": true,
              "headers": [
                [
                  "content-type",
                  "application/javascript"
                ]
              ],
              "status": 200,
              "status_text": "OK"
            }
          },
          "base_uri": "https://localhost:8080/",
          "height": 75
        },
        "outputId": "637ef06b-56fa-4502-dcd2-96035451fce9"
      },
      "source": [
        "from google.colab import files\n",
        "uploaded = files.upload()\n",
        "import io\n",
        "import pandas as pd\n",
        "\n",
        "train_name = list(uploaded.keys())[0]\n",
        "\n",
        "train_df = pd.read_csv(io.BytesIO(uploaded[train_name]))"
      ],
      "execution_count": 12,
      "outputs": [
        {
          "output_type": "display_data",
          "data": {
            "text/html": [
              "\n",
              "     <input type=\"file\" id=\"files-2f9fa028-8d35-4b12-bacb-9115c140ca13\" name=\"files[]\" multiple disabled\n",
              "        style=\"border:none\" />\n",
              "     <output id=\"result-2f9fa028-8d35-4b12-bacb-9115c140ca13\">\n",
              "      Upload widget is only available when the cell has been executed in the\n",
              "      current browser session. Please rerun this cell to enable.\n",
              "      </output>\n",
              "      <script src=\"/nbextensions/google.colab/files.js\"></script> "
            ],
            "text/plain": [
              "<IPython.core.display.HTML object>"
            ]
          },
          "metadata": {}
        },
        {
          "output_type": "stream",
          "name": "stdout",
          "text": [
            "Saving FiftyWords_TRAIN.csv to FiftyWords_TRAIN (1).csv\n"
          ]
        }
      ]
    },
    {
      "cell_type": "code",
      "metadata": {
        "id": "lI06qQRplofS",
        "colab": {
          "resources": {
            "http://localhost:8080/nbextensions/google.colab/files.js": {
              "data": "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",
              "ok": true,
              "headers": [
                [
                  "content-type",
                  "application/javascript"
                ]
              ],
              "status": 200,
              "status_text": "OK"
            }
          },
          "base_uri": "https://localhost:8080/",
          "height": 75
        },
        "outputId": "2b2e1621-2422-4afe-87d6-276004b3bb0c"
      },
      "source": [
        "uploaded = files.upload()\n",
        "\n",
        "test_name = list(uploaded.keys())[0]\n",
        "\n",
        "test_df = pd.read_csv(io.BytesIO(uploaded[test_name]))"
      ],
      "execution_count": 13,
      "outputs": [
        {
          "output_type": "display_data",
          "data": {
            "text/html": [
              "\n",
              "     <input type=\"file\" id=\"files-1850984b-54b1-4fa6-92d5-0eefc3f2a83b\" name=\"files[]\" multiple disabled\n",
              "        style=\"border:none\" />\n",
              "     <output id=\"result-1850984b-54b1-4fa6-92d5-0eefc3f2a83b\">\n",
              "      Upload widget is only available when the cell has been executed in the\n",
              "      current browser session. Please rerun this cell to enable.\n",
              "      </output>\n",
              "      <script src=\"/nbextensions/google.colab/files.js\"></script> "
            ],
            "text/plain": [
              "<IPython.core.display.HTML object>"
            ]
          },
          "metadata": {}
        },
        {
          "output_type": "stream",
          "name": "stdout",
          "text": [
            "Saving FiftyWords_TEST.csv to FiftyWords_TEST (1).csv\n"
          ]
        }
      ]
    },
    {
      "cell_type": "code",
      "metadata": {
        "id": "Hxwm8HLKcZTk"
      },
      "source": [
        "train_data = np.array(train_df)\n",
        "test_data = np.array(test_df)\n",
        "#train_data, test_data = shuffle(train_data, test_data)"
      ],
      "execution_count": 14,
      "outputs": []
    },
    {
      "cell_type": "code",
      "metadata": {
        "id": "xnwXjmpvcquA",
        "colab": {
          "base_uri": "https://localhost:8080/"
        },
        "outputId": "352ca8e6-a16b-4815-dae4-f5827314bf91"
      },
      "source": [
        "x_train = train_data[:, :-1]\n",
        "x_test = test_data[:, :-1]\n",
        "train_y = train_data[:, -1:] \n",
        "test_y = test_data[:, -1:]\n",
        "\n",
        "count_train = np.unique(train_y, return_counts=True)\n",
        "count_test = np.unique(test_y, return_counts=True)\n",
        "\n",
        "print(count_train[1])\n",
        "print(count_test[1])\n",
        "\n",
        "classes_in_dataset = len(np.unique(np.concatenate((train_y, test_y), axis=0)))\n",
        "\n",
        "# transform the labels from integers to one hot vectors\n",
        "enc = OneHotEncoder(categories='auto')\n",
        "enc.fit(np.concatenate((train_y, test_y), axis=0).reshape(-1, 1))\n",
        "y_train = enc.transform(train_y.reshape(-1, 1)).toarray()\n",
        "y_test = enc.transform(test_y.reshape(-1, 1)).toarray()\n",
        "\n",
        "x_train.shape\n",
        "x_test.shape"
      ],
      "execution_count": 29,
      "outputs": [
        {
          "output_type": "stream",
          "name": "stdout",
          "text": [
            "[52 49 33 20 13 15 16 11 11 10 10 13 14  8  7  6  7  8  9  7  7  5  6  4\n",
            "  2  6  4  6  4  6  3  7  5  3  6  6  5  4  4  4  1  2  4  6  4  4  4  5\n",
            "  2  2]\n",
            "[57 42 28 34 25 19 16 13 13 12 12  9  7 10  9  8  7  5  4  6  5  6  4  6\n",
            "  8  4  6  3  5  3  6  2  3  5  2  2  3  4  4  4  6  5  3  1  3  3  3  2\n",
            "  4  4]\n"
          ]
        },
        {
          "output_type": "execute_result",
          "data": {
            "text/plain": [
              "(455, 270)"
            ]
          },
          "metadata": {},
          "execution_count": 29
        }
      ]
    },
    {
      "cell_type": "code",
      "metadata": {
        "id": "FOzO4uOwcl0E"
      },
      "source": [
        "x_train,x_validate,y_train,y_validate = train_test_split(x_train,y_train,test_size = 0.1,random_state = 42)"
      ],
      "execution_count": 16,
      "outputs": []
    },
    {
      "cell_type": "code",
      "metadata": {
        "id": "K8vqwl0gltg7",
        "colab": {
          "base_uri": "https://localhost:8080/"
        },
        "outputId": "199361bd-1b14-48bc-cb73-1b1a40f72929"
      },
      "source": [
        "if len(x_train.shape) == 2:  # if univariate\n",
        "        # add a dimension to make it multivariate with one dimension \n",
        "        x_train = x_train.reshape((x_train.shape[0], x_train.shape[1], 1))\n",
        "        x_test = x_test.reshape((x_test.shape[0], x_test.shape[1], 1))\n",
        "input_shape = x_train.shape[1:]\n",
        "\n",
        "print(input_shape)\n",
        "\n",
        "print(classes_in_dataset)\n",
        "###y_train for xgboost without encoding\n",
        "y_train_xgboost = enc.inverse_transform(y_train)\n",
        "\n",
        "\n",
        "print(x_train.shape)\n",
        "print(y_train.shape)\n",
        "print(x_test.shape)\n",
        "print(y_test.shape)\n",
        "print(x_validate.shape)\n",
        "print(y_validate.shape)"
      ],
      "execution_count": 34,
      "outputs": [
        {
          "output_type": "stream",
          "name": "stdout",
          "text": [
            "(270, 1)\n",
            "50\n",
            "(450, 270, 1)\n",
            "(450, 50)\n",
            "(455, 270, 1)\n",
            "(455, 50)\n",
            "(45, 270)\n",
            "(45, 50)\n"
          ]
        }
      ]
    },
    {
      "cell_type": "code",
      "metadata": {
        "colab": {
          "base_uri": "https://localhost:8080/"
        },
        "id": "69xAmtJ7eCVb",
        "outputId": "0af7231d-f4ac-492b-d09e-dd6972797968"
      },
      "source": [
        "inputs = input_shape\n",
        "input_layer = Input(inputs)\n",
        "\n",
        "conv2d1 = Convolution1D(filters=256, kernel_size=3, padding='valid')(input_layer)\n",
        "activation1 = Activation('relu')(conv2d1)\n",
        "maxpooling1 = MaxPooling1D(pool_size=2, strides=1, padding='valid')(activation1)\n",
        "dropout1 = Dropout(0.1)(maxpooling1)\n",
        "\n",
        "conv2d2 = Convolution1D(filters=128, kernel_size=3, padding='valid')(dropout1)\n",
        "activation2 = Activation('relu')(conv2d2)\n",
        "maxpooling2 = MaxPooling1D(pool_size=2, strides=1, padding='valid')(activation2)\n",
        "dropout2 = Dropout(0.1)(maxpooling2)\n",
        "\n",
        "flatten = Flatten()(dropout2)\n",
        "\n",
        "dense1 = Dense(512)(flatten) ##kernel_regularizer=l2(0.001)\n",
        "activation3 = Activation('relu')(dense1)\n",
        "\n",
        "dense2 = Dense(units=classes_in_dataset)(activation3)\n",
        "activation4 = Activation('softmax')(dense2)\n",
        "\n",
        "output_for_xgboost = Model(inputs=input_layer, outputs=dense1)\n",
        "model = Model(inputs=input_layer, outputs=activation4)\n",
        "\n",
        "callback = tf.keras.callbacks.EarlyStopping(monitor='loss', patience=3)\n",
        "\n",
        "model.compile(loss ='mean_squared_error', optimizer='Adam',metrics =['accuracy'])\n",
        "\n",
        "history = model.fit(\n",
        "    x_train,\n",
        "    y_train,\n",
        "    batch_size=16,\n",
        "    epochs=400,\n",
        "    verbose=1,\n",
        "    callbacks=[callback],\n",
        "    validation_data=(x_validate,y_validate),\n",
        ")\n",
        "\n",
        "score = model.evaluate(x_test,y_test,verbose=0)\n",
        "print('Test Loss : {:.4f}'.format(score[0]))\n",
        "print('Test Accuracy : {:.4f}'.format(score[1]))\n"
      ],
      "execution_count": 39,
      "outputs": [
        {
          "output_type": "stream",
          "name": "stdout",
          "text": [
            "Epoch 1/400\n",
            "29/29 [==============================] - 7s 232ms/step - loss: 0.0183 - accuracy: 0.2000 - val_loss: 0.0150 - val_accuracy: 0.4000\n",
            "Epoch 2/400\n",
            "29/29 [==============================] - 6s 223ms/step - loss: 0.0145 - accuracy: 0.4311 - val_loss: 0.0118 - val_accuracy: 0.4667\n",
            "Epoch 3/400\n",
            "29/29 [==============================] - 7s 226ms/step - loss: 0.0116 - accuracy: 0.5533 - val_loss: 0.0084 - val_accuracy: 0.7333\n",
            "Epoch 4/400\n",
            "29/29 [==============================] - 6s 223ms/step - loss: 0.0102 - accuracy: 0.6133 - val_loss: 0.0072 - val_accuracy: 0.7556\n",
            "Epoch 5/400\n",
            "29/29 [==============================] - 6s 223ms/step - loss: 0.0079 - accuracy: 0.6933 - val_loss: 0.0055 - val_accuracy: 0.7778\n",
            "Epoch 6/400\n",
            "29/29 [==============================] - 6s 223ms/step - loss: 0.0066 - accuracy: 0.7511 - val_loss: 0.0031 - val_accuracy: 0.9111\n",
            "Epoch 7/400\n",
            "29/29 [==============================] - 7s 225ms/step - loss: 0.0050 - accuracy: 0.8067 - val_loss: 0.0054 - val_accuracy: 0.8222\n",
            "Epoch 8/400\n",
            "29/29 [==============================] - 7s 225ms/step - loss: 0.0047 - accuracy: 0.8311 - val_loss: 0.0011 - val_accuracy: 0.9778\n",
            "Epoch 9/400\n",
            "29/29 [==============================] - 7s 226ms/step - loss: 0.0036 - accuracy: 0.8711 - val_loss: 0.0010 - val_accuracy: 0.9778\n",
            "Epoch 10/400\n",
            "29/29 [==============================] - 6s 225ms/step - loss: 0.0030 - accuracy: 0.8800 - val_loss: 8.8974e-04 - val_accuracy: 0.9778\n",
            "Epoch 11/400\n",
            "29/29 [==============================] - 7s 226ms/step - loss: 0.0027 - accuracy: 0.9111 - val_loss: 8.7223e-04 - val_accuracy: 0.9778\n",
            "Epoch 12/400\n",
            "29/29 [==============================] - 6s 225ms/step - loss: 0.0022 - accuracy: 0.9311 - val_loss: 0.0014 - val_accuracy: 0.9333\n",
            "Epoch 13/400\n",
            "29/29 [==============================] - 7s 227ms/step - loss: 0.0017 - accuracy: 0.9400 - val_loss: 5.6493e-04 - val_accuracy: 0.9778\n",
            "Epoch 14/400\n",
            "29/29 [==============================] - 7s 226ms/step - loss: 0.0013 - accuracy: 0.9533 - val_loss: 1.4366e-04 - val_accuracy: 1.0000\n",
            "Epoch 15/400\n",
            "29/29 [==============================] - 7s 227ms/step - loss: 0.0011 - accuracy: 0.9578 - val_loss: 6.7935e-05 - val_accuracy: 1.0000\n",
            "Epoch 16/400\n",
            "29/29 [==============================] - 7s 226ms/step - loss: 7.3797e-04 - accuracy: 0.9711 - val_loss: 6.5936e-06 - val_accuracy: 1.0000\n",
            "Epoch 17/400\n",
            "29/29 [==============================] - 7s 227ms/step - loss: 6.6728e-04 - accuracy: 0.9733 - val_loss: 1.4652e-05 - val_accuracy: 1.0000\n",
            "Epoch 18/400\n",
            "29/29 [==============================] - 7s 225ms/step - loss: 6.5776e-04 - accuracy: 0.9756 - val_loss: 8.3058e-06 - val_accuracy: 1.0000\n",
            "Epoch 19/400\n",
            "29/29 [==============================] - 7s 226ms/step - loss: 5.8320e-04 - accuracy: 0.9778 - val_loss: 7.3156e-06 - val_accuracy: 1.0000\n",
            "Epoch 20/400\n",
            "29/29 [==============================] - 7s 226ms/step - loss: 6.8291e-04 - accuracy: 0.9733 - val_loss: 4.9027e-04 - val_accuracy: 0.9778\n",
            "Epoch 21/400\n",
            "29/29 [==============================] - 7s 226ms/step - loss: 6.5900e-04 - accuracy: 0.9778 - val_loss: 7.6027e-06 - val_accuracy: 1.0000\n",
            "Epoch 22/400\n",
            "29/29 [==============================] - 7s 226ms/step - loss: 4.6087e-04 - accuracy: 0.9844 - val_loss: 3.7032e-06 - val_accuracy: 1.0000\n",
            "Epoch 23/400\n",
            "29/29 [==============================] - 7s 224ms/step - loss: 4.7010e-04 - accuracy: 0.9844 - val_loss: 2.1317e-05 - val_accuracy: 1.0000\n",
            "Epoch 24/400\n",
            "29/29 [==============================] - 7s 225ms/step - loss: 4.4498e-04 - accuracy: 0.9844 - val_loss: 4.7276e-06 - val_accuracy: 1.0000\n",
            "Epoch 25/400\n",
            "29/29 [==============================] - 7s 226ms/step - loss: 4.2610e-04 - accuracy: 0.9844 - val_loss: 5.5114e-06 - val_accuracy: 1.0000\n",
            "Epoch 26/400\n",
            "29/29 [==============================] - 7s 225ms/step - loss: 4.2386e-04 - accuracy: 0.9844 - val_loss: 5.5020e-06 - val_accuracy: 1.0000\n",
            "Epoch 27/400\n",
            "29/29 [==============================] - 7s 226ms/step - loss: 3.9276e-04 - accuracy: 0.9844 - val_loss: 5.0438e-06 - val_accuracy: 1.0000\n",
            "Epoch 28/400\n",
            "29/29 [==============================] - 7s 226ms/step - loss: 3.8846e-04 - accuracy: 0.9844 - val_loss: 5.0638e-06 - val_accuracy: 1.0000\n",
            "Epoch 29/400\n",
            "29/29 [==============================] - 7s 226ms/step - loss: 3.8351e-04 - accuracy: 0.9844 - val_loss: 3.1330e-06 - val_accuracy: 1.0000\n",
            "Epoch 30/400\n",
            "29/29 [==============================] - 7s 226ms/step - loss: 3.7838e-04 - accuracy: 0.9844 - val_loss: 3.0061e-06 - val_accuracy: 1.0000\n",
            "Epoch 31/400\n",
            "29/29 [==============================] - 7s 227ms/step - loss: 3.4857e-04 - accuracy: 0.9867 - val_loss: 4.2522e-06 - val_accuracy: 1.0000\n",
            "Epoch 32/400\n",
            "29/29 [==============================] - 7s 228ms/step - loss: 3.0735e-04 - accuracy: 0.9889 - val_loss: 6.7861e-07 - val_accuracy: 1.0000\n",
            "Epoch 33/400\n",
            "29/29 [==============================] - 7s 227ms/step - loss: 2.8388e-04 - accuracy: 0.9889 - val_loss: 6.0444e-07 - val_accuracy: 1.0000\n",
            "Epoch 34/400\n",
            "29/29 [==============================] - 7s 227ms/step - loss: 2.8026e-04 - accuracy: 0.9889 - val_loss: 7.0273e-07 - val_accuracy: 1.0000\n",
            "Epoch 35/400\n",
            "29/29 [==============================] - 7s 228ms/step - loss: 2.7832e-04 - accuracy: 0.9889 - val_loss: 6.6651e-07 - val_accuracy: 1.0000\n",
            "Epoch 36/400\n",
            "29/29 [==============================] - 7s 227ms/step - loss: 2.7721e-04 - accuracy: 0.9889 - val_loss: 6.6171e-07 - val_accuracy: 1.0000\n",
            "Epoch 37/400\n",
            "29/29 [==============================] - 7s 227ms/step - loss: 2.7624e-04 - accuracy: 0.9889 - val_loss: 6.5745e-07 - val_accuracy: 1.0000\n",
            "Epoch 38/400\n",
            "29/29 [==============================] - 7s 225ms/step - loss: 2.7446e-04 - accuracy: 0.9889 - val_loss: 8.9697e-07 - val_accuracy: 1.0000\n",
            "Epoch 39/400\n",
            "29/29 [==============================] - 7s 226ms/step - loss: 2.5752e-04 - accuracy: 0.9911 - val_loss: 2.1644e-06 - val_accuracy: 1.0000\n",
            "Epoch 40/400\n",
            "29/29 [==============================] - 7s 226ms/step - loss: 2.3132e-04 - accuracy: 0.9911 - val_loss: 3.7947e-07 - val_accuracy: 1.0000\n",
            "Epoch 41/400\n",
            "29/29 [==============================] - 7s 230ms/step - loss: 2.3018e-04 - accuracy: 0.9911 - val_loss: 3.3235e-07 - val_accuracy: 1.0000\n",
            "Epoch 42/400\n",
            "29/29 [==============================] - 7s 225ms/step - loss: 2.3022e-04 - accuracy: 0.9911 - val_loss: 2.9362e-07 - val_accuracy: 1.0000\n",
            "Epoch 43/400\n",
            "29/29 [==============================] - 7s 226ms/step - loss: 2.2955e-04 - accuracy: 0.9911 - val_loss: 2.7882e-07 - val_accuracy: 1.0000\n",
            "Epoch 44/400\n",
            "29/29 [==============================] - 7s 228ms/step - loss: 2.2945e-04 - accuracy: 0.9911 - val_loss: 2.7289e-07 - val_accuracy: 1.0000\n",
            "Epoch 45/400\n",
            "29/29 [==============================] - 7s 228ms/step - loss: 2.2927e-04 - accuracy: 0.9911 - val_loss: 2.7522e-07 - val_accuracy: 1.0000\n",
            "Epoch 46/400\n",
            "29/29 [==============================] - 7s 228ms/step - loss: 2.2913e-04 - accuracy: 0.9911 - val_loss: 2.6220e-07 - val_accuracy: 1.0000\n",
            "Epoch 47/400\n",
            "29/29 [==============================] - 7s 226ms/step - loss: 2.2919e-04 - accuracy: 0.9911 - val_loss: 2.3349e-07 - val_accuracy: 1.0000\n",
            "Epoch 48/400\n",
            "29/29 [==============================] - 7s 227ms/step - loss: 2.2893e-04 - accuracy: 0.9911 - val_loss: 2.2381e-07 - val_accuracy: 1.0000\n",
            "Epoch 49/400\n",
            "29/29 [==============================] - 7s 227ms/step - loss: 2.2871e-04 - accuracy: 0.9911 - val_loss: 2.1824e-07 - val_accuracy: 1.0000\n",
            "Epoch 50/400\n",
            "29/29 [==============================] - 7s 228ms/step - loss: 2.2873e-04 - accuracy: 0.9911 - val_loss: 2.2213e-07 - val_accuracy: 1.0000\n",
            "Epoch 51/400\n",
            "29/29 [==============================] - 7s 225ms/step - loss: 2.2865e-04 - accuracy: 0.9911 - val_loss: 2.1086e-07 - val_accuracy: 1.0000\n",
            "Epoch 52/400\n",
            "29/29 [==============================] - 6s 223ms/step - loss: 2.2853e-04 - accuracy: 0.9911 - val_loss: 1.9872e-07 - val_accuracy: 1.0000\n",
            "Epoch 53/400\n",
            "29/29 [==============================] - 7s 227ms/step - loss: 2.2839e-04 - accuracy: 0.9911 - val_loss: 1.9491e-07 - val_accuracy: 1.0000\n",
            "Epoch 54/400\n",
            "29/29 [==============================] - 7s 226ms/step - loss: 2.2837e-04 - accuracy: 0.9911 - val_loss: 1.8403e-07 - val_accuracy: 1.0000\n",
            "Epoch 55/400\n",
            "29/29 [==============================] - 7s 230ms/step - loss: 2.2835e-04 - accuracy: 0.9911 - val_loss: 1.8178e-07 - val_accuracy: 1.0000\n",
            "Epoch 56/400\n",
            "29/29 [==============================] - 7s 228ms/step - loss: 2.2826e-04 - accuracy: 0.9911 - val_loss: 1.7416e-07 - val_accuracy: 1.0000\n",
            "Epoch 57/400\n",
            "29/29 [==============================] - 7s 228ms/step - loss: 2.2820e-04 - accuracy: 0.9911 - val_loss: 1.6400e-07 - val_accuracy: 1.0000\n",
            "Epoch 58/400\n",
            "29/29 [==============================] - 7s 228ms/step - loss: 2.2813e-04 - accuracy: 0.9911 - val_loss: 1.5880e-07 - val_accuracy: 1.0000\n",
            "Epoch 59/400\n",
            "29/29 [==============================] - 7s 230ms/step - loss: 2.2812e-04 - accuracy: 0.9911 - val_loss: 1.6532e-07 - val_accuracy: 1.0000\n",
            "Epoch 60/400\n",
            "29/29 [==============================] - 7s 228ms/step - loss: 2.2806e-04 - accuracy: 0.9911 - val_loss: 1.5848e-07 - val_accuracy: 1.0000\n",
            "Epoch 61/400\n",
            "29/29 [==============================] - 7s 229ms/step - loss: 2.2808e-04 - accuracy: 0.9911 - val_loss: 1.5368e-07 - val_accuracy: 1.0000\n",
            "Epoch 62/400\n",
            "29/29 [==============================] - 7s 230ms/step - loss: 2.2798e-04 - accuracy: 0.9911 - val_loss: 1.5340e-07 - val_accuracy: 1.0000\n",
            "Epoch 63/400\n",
            "29/29 [==============================] - 7s 231ms/step - loss: 2.2784e-04 - accuracy: 0.9911 - val_loss: 1.5343e-07 - val_accuracy: 1.0000\n",
            "Epoch 64/400\n",
            "29/29 [==============================] - 7s 232ms/step - loss: 2.2791e-04 - accuracy: 0.9911 - val_loss: 1.4662e-07 - val_accuracy: 1.0000\n",
            "Epoch 65/400\n",
            "29/29 [==============================] - 7s 230ms/step - loss: 2.2778e-04 - accuracy: 0.9911 - val_loss: 1.4183e-07 - val_accuracy: 1.0000\n",
            "Epoch 66/400\n",
            "29/29 [==============================] - 7s 229ms/step - loss: 2.2775e-04 - accuracy: 0.9911 - val_loss: 1.4226e-07 - val_accuracy: 1.0000\n",
            "Epoch 67/400\n",
            "29/29 [==============================] - 7s 231ms/step - loss: 2.2771e-04 - accuracy: 0.9911 - val_loss: 1.3627e-07 - val_accuracy: 1.0000\n",
            "Epoch 68/400\n",
            "29/29 [==============================] - 7s 229ms/step - loss: 2.2747e-04 - accuracy: 0.9911 - val_loss: 1.4627e-07 - val_accuracy: 1.0000\n",
            "Epoch 69/400\n",
            "29/29 [==============================] - 7s 228ms/step - loss: 2.2731e-04 - accuracy: 0.9911 - val_loss: 1.5545e-07 - val_accuracy: 1.0000\n",
            "Epoch 70/400\n",
            "29/29 [==============================] - 7s 227ms/step - loss: 2.2486e-04 - accuracy: 0.9911 - val_loss: 2.3643e-07 - val_accuracy: 1.0000\n",
            "Epoch 71/400\n",
            "29/29 [==============================] - 7s 226ms/step - loss: 2.2795e-04 - accuracy: 0.9911 - val_loss: 2.2857e-07 - val_accuracy: 1.0000\n",
            "Epoch 72/400\n",
            "29/29 [==============================] - 7s 226ms/step - loss: 2.2770e-04 - accuracy: 0.9911 - val_loss: 2.1873e-07 - val_accuracy: 1.0000\n",
            "Epoch 73/400\n",
            "29/29 [==============================] - 7s 226ms/step - loss: 2.2761e-04 - accuracy: 0.9911 - val_loss: 2.1741e-07 - val_accuracy: 1.0000\n",
            "Test Loss : 0.0090\n",
            "Test Accuracy : 0.6923\n"
          ]
        }
      ]
    },
    {
      "cell_type": "code",
      "metadata": {
        "colab": {
          "base_uri": "https://localhost:8080/",
          "height": 329
        },
        "id": "Kg2jWIz_TtlX",
        "outputId": "a5bca108-ea4f-487c-ec12-26d5609d80b6"
      },
      "source": [
        "plt.figure(figsize=(10, 10))\n",
        "\n",
        "plt.subplot(2, 2, 1)\n",
        "plt.plot(history.history['loss'], label='Loss')\n",
        "plt.plot(history.history['val_loss'], label='Validation Loss')\n",
        "plt.legend()\n",
        "plt.title('Training - Loss Function')\n",
        "\n",
        "plt.subplot(2, 2, 2)\n",
        "plt.plot(history.history['accuracy'], label='Accuracy')\n",
        "plt.plot(history.history['val_accuracy'], label='Validation Accuracy')\n",
        "plt.legend()\n",
        "plt.title('Train - Accuracy')"
      ],
      "execution_count": 40,
      "outputs": [
        {
          "output_type": "execute_result",
          "data": {
            "text/plain": [
              "Text(0.5, 1.0, 'Train - Accuracy')"
            ]
          },
          "metadata": {},
          "execution_count": 40
        },
        {
          "output_type": "display_data",
          "data": {
            "image/png": "[encoded data removed]",
            "text/plain": [
              "<Figure size 720x720 with 2 Axes>"
            ]
          },
          "metadata": {
            "needs_background": "light"
          }
        }
      ]
    },
    {
      "cell_type": "code",
      "metadata": {
        "id": "Q0MA-9s3RrWT",
        "colab": {
          "base_uri": "https://localhost:8080/"
        },
        "outputId": "1f4b256b-273b-4044-8cf4-21b4d2e26ca7"
      },
      "source": [
        "######### XGBOOST #############\n",
        "\n",
        "intermediate_layer_model = output_for_xgboost\n",
        "\n",
        "intermediate_layer_model.summary()\n",
        "\n",
        "x_train_xgboost = intermediate_layer_model.predict(x_train)\n",
        "x_test_xgboost = intermediate_layer_model.predict(x_test)\n",
        "\n",
        "#label encoder for y to be in range from 0 to num-classes\n",
        "def transform_labels(y_train_xgboost, test_y):\n",
        "    le = preprocessing.LabelEncoder()\n",
        "    y_t_xgboost = le.fit_transform(y_train_xgboost)\n",
        "    t_y = le.fit_transform(test_y)\n",
        "    return y_t_xgboost, t_y\n",
        "\n",
        "y_tr_xgboost, test_y_xgboost = transform_labels(y_train_xgboost, test_y)\n",
        "\n",
        "xgboost_train_dataset = np.concatenate([np.array(x_train_xgboost).reshape(x_train.shape[0],512),np.array(y_tr_xgboost).reshape(y_tr_xgboost.shape[0],1)],axis=1)\n",
        "xgboost_train_dataset = pd.DataFrame(xgboost_train_dataset)\n",
        "xgboost_train_dataset.to_csv('train_xgboost.csv',index=False)\n",
        "\n",
        "xgboost_test_dataset = np.concatenate([np.array(x_test_xgboost).reshape(x_test.shape[0],512),np.array(test_y_xgboost).reshape(test_y_xgboost.shape[0],1)],axis=1)\n",
        "xgboost_test_dataset = pd.DataFrame(xgboost_test_dataset)\n",
        "xgboost_test_dataset.to_csv('test_xgboost.csv',index=False)\n",
        "\n",
        "train = pd.read_csv('train_xgboost.csv')\n",
        "train_y = train['512'].astype('int')\n",
        "train_x = train.drop(['512'],axis=1)\n",
        "\n",
        "test = pd.read_csv('test_xgboost.csv')\n",
        "test_y = test['512'].astype('int')\n",
        "test_x = test.drop(['512'],axis=1)\n",
        "\n",
        "print(train_y.shape)\n",
        "print(test_y.shape)\n",
        "\n",
        "dataset = xgb.DMatrix(train_x, label=train_y)\n",
        "watchlist = [(dataset, 'train')]\n",
        "params = {'max_depth':6, 'eta':0.3, 'silent':1, 'num_class': classes_in_dataset} \n",
        "model_xg = xgb.train(params, dataset, num_boost_round=100)\n",
        "\n",
        "\n",
        "test_x = xgb.DMatrix(test_x)\n",
        "result = model_xg.predict(test_x)"
      ],
      "execution_count": 44,
      "outputs": [
        {
          "output_type": "stream",
          "name": "stdout",
          "text": [
            "Model: \"model_18\"\n",
            "_________________________________________________________________\n",
            "Layer (type)                 Output Shape              Param #   \n",
            "=================================================================\n",
            "input_11 (InputLayer)        [(None, 270, 1)]          0         \n",
            "_________________________________________________________________\n",
            "conv1d_51 (Conv1D)           (None, 268, 256)          1024      \n",
            "_________________________________________________________________\n",
            "activation_69 (Activation)   (None, 268, 256)          0         \n",
            "_________________________________________________________________\n",
            "max_pooling1d_51 (MaxPooling (None, 267, 256)          0         \n",
            "_________________________________________________________________\n",
            "dropout_50 (Dropout)         (None, 267, 256)          0         \n",
            "_________________________________________________________________\n",
            "conv1d_52 (Conv1D)           (None, 265, 128)          98432     \n",
            "_________________________________________________________________\n",
            "activation_70 (Activation)   (None, 265, 128)          0         \n",
            "_________________________________________________________________\n",
            "max_pooling1d_52 (MaxPooling (None, 264, 128)          0         \n",
            "_________________________________________________________________\n",
            "dropout_51 (Dropout)         (None, 264, 128)          0         \n",
            "_________________________________________________________________\n",
            "flatten_9 (Flatten)          (None, 33792)             0         \n",
            "_________________________________________________________________\n",
            "dense_18 (Dense)             (None, 512)               17302016  \n",
            "=================================================================\n",
            "Total params: 17,401,472\n",
            "Trainable params: 17,401,472\n",
            "Non-trainable params: 0\n",
            "_________________________________________________________________\n"
          ]
        },
        {
          "output_type": "stream",
          "name": "stderr",
          "text": [
            "/usr/local/lib/python3.7/dist-packages/sklearn/preprocessing/_label.py:251: DataConversionWarning: A column-vector y was passed when a 1d array was expected. Please change the shape of y to (n_samples, ), for example using ravel().\n",
            "  y = column_or_1d(y, warn=True)\n"
          ]
        },
        {
          "output_type": "stream",
          "name": "stdout",
          "text": [
            "(450,)\n",
            "(455,)\n"
          ]
        }
      ]
    },
    {
      "cell_type": "code",
      "metadata": {
        "id": "KT6wPCUXVqqA",
        "colab": {
          "base_uri": "https://localhost:8080/"
        },
        "outputId": "465e8fb5-f2b7-440e-d38c-0149ac2d4611"
      },
      "source": [
        "\n",
        "from sklearn.metrics import precision_score, recall_score, accuracy_score, f1_score, classification_report, confusion_matrix\n",
        "\n",
        "#preds = model.predict(d_test)\n",
        "#best_preds = np.asarray([np.argmax(line) for line in result])\n",
        "\n",
        "print(\"Precision = {}\".format(precision_score(test_y, result, average='macro', zero_division=0)))\n",
        "print(\"Recall = {}\".format(recall_score(test_y, result, average='macro', zero_division=0)))\n",
        "print(\"Accuracy = {}\".format(accuracy_score(test_y, result)))\n",
        "print(\"F1 score = {}\".format(f1_score(test_y, result, average='macro', zero_division=0)))\n",
        "\n",
        "print(metrics.classification_report(test_y, result))\n",
        "print(metrics.confusion_matrix(test_y, result))"
      ],
      "execution_count": 45,
      "outputs": [
        {
          "output_type": "stream",
          "name": "stdout",
          "text": [
            "Precision = 0.4724611453361453\n",
            "Recall = 0.4487694959495269\n",
            "Accuracy = 0.621978021978022\n",
            "F1 score = 0.43035753148961187\n",
            "              precision    recall  f1-score   support\n",
            "\n",
            "           0       0.80      0.93      0.86        57\n",
            "           1       0.70      0.90      0.79        42\n",
            "           2       0.67      0.79      0.72        28\n",
            "           3       0.72      0.68      0.70        34\n",
            "           4       0.73      0.76      0.75        25\n",
            "           5       0.83      0.53      0.65        19\n",
            "           6       0.94      0.94      0.94        16\n",
            "           7       0.77      0.77      0.77        13\n",
            "           8       0.90      0.69      0.78        13\n",
            "           9       0.50      0.83      0.62        12\n",
            "          10       0.58      0.58      0.58        12\n",
            "          11       0.29      0.44      0.35         9\n",
            "          12       0.21      0.43      0.29         7\n",
            "          13       0.57      0.40      0.47        10\n",
            "          14       0.64      1.00      0.78         9\n",
            "          15       1.00      0.38      0.55         8\n",
            "          16       0.00      0.00      0.00         7\n",
            "          17       0.20      0.20      0.20         5\n",
            "          18       0.67      1.00      0.80         4\n",
            "          19       0.75      0.50      0.60         6\n",
            "          20       0.33      0.20      0.25         5\n",
            "          21       0.00      0.00      0.00         6\n",
            "          22       0.67      0.50      0.57         4\n",
            "          23       0.57      0.67      0.62         6\n",
            "          24       1.00      0.12      0.22         8\n",
            "          25       0.31      1.00      0.47         4\n",
            "          26       0.50      0.17      0.25         6\n",
            "          27       0.33      0.33      0.33         3\n",
            "          28       0.00      0.00      0.00         5\n",
            "          29       0.25      0.67      0.36         3\n",
            "          30       0.60      0.50      0.55         6\n",
            "          31       1.00      1.00      1.00         2\n",
            "          32       0.33      0.67      0.44         3\n",
            "          33       0.50      0.20      0.29         5\n",
            "          34       0.00      0.00      0.00         2\n",
            "          35       0.25      0.50      0.33         2\n",
            "          36       1.00      0.67      0.80         3\n",
            "          37       0.33      0.25      0.29         4\n",
            "          38       0.67      0.50      0.57         4\n",
            "          39       0.00      0.00      0.00         4\n",
            "          40       0.50      0.17      0.25         6\n",
            "          41       0.00      0.00      0.00         5\n",
            "          42       0.00      0.00      0.00         3\n",
            "          43       0.00      0.00      0.00         1\n",
            "          44       0.00      0.00      0.00         3\n",
            "          45       0.50      0.33      0.40         3\n",
            "          46       1.00      1.00      1.00         3\n",
            "          47       0.00      0.00      0.00         2\n",
            "          48       0.00      0.00      0.00         4\n",
            "          49       0.50      0.25      0.33         4\n",
            "\n",
            "    accuracy                           0.62       455\n",
            "   macro avg       0.47      0.45      0.43       455\n",
            "weighted avg       0.62      0.62      0.60       455\n",
            "\n",
            "[[53  0  0 ...  0  0  0]\n",
            " [ 1 38  0 ...  0  0  0]\n",
            " [ 0  1 22 ...  0  0  0]\n",
            " ...\n",
            " [ 0  0  0 ...  0  0  0]\n",
            " [ 0  0  1 ...  0  0  0]\n",
            " [ 1  1  0 ...  0  0  1]]\n"
          ]
        },
        {
          "output_type": "stream",
          "name": "stderr",
          "text": [
            "/usr/local/lib/python3.7/dist-packages/sklearn/metrics/_classification.py:1272: UndefinedMetricWarning: Precision and F-score are ill-defined and being set to 0.0 in labels with no predicted samples. Use `zero_division` parameter to control this behavior.\n",
            "  _warn_prf(average, modifier, msg_start, len(result))\n"
          ]
        }
      ]
    },
    {
      "cell_type": "code",
      "metadata": {
        "id": "jQepJPHZe0pX"
      },
      "source": [
        ""
      ],
      "execution_count": 21,
      "outputs": []
    }
  ]
}